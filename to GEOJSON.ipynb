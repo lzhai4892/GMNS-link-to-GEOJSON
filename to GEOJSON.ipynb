{
 "cells": [
  {
   "cell_type": "code",
   "execution_count": null,
   "id": "ddcae69f",
   "metadata": {},
   "outputs": [],
   "source": [
    "import pandas as pd\n",
    "import csv\n",
    "import json"
   ]
  },
  {
   "cell_type": "code",
   "execution_count": null,
   "id": "f73daeac",
   "metadata": {},
   "outputs": [],
   "source": [
    "# Function to read the 'GMNS link geometry' column and \n",
    "# convert it to a new 'GEOJSON geometry format' column\n",
    "\n",
    "def GMNSLinkToGEOJSON(csvLinkFile, jsonExportFile):\n",
    "    \n",
    "    df = pd.read_csv(csvLinkFile)\n",
    "    geoList = df['geometry'].tolist()\n",
    "    new_column_ls = []\n",
    "    \n",
    "    for line in geoList:\n",
    "        line = line[12:-1]\n",
    "        line = [line]\n",
    "        line_points_ls = []\n",
    "    #     print('line:', line) # line is 1 element list \n",
    "        points = [ele.split(',') for ele in line]\n",
    "        points = points[0]\n",
    "        points = [ele.split(',') for ele in points]\n",
    "        for point in points:\n",
    "            point = [ele.split(' ')[-2:] for ele in point][0]\n",
    "            point = [float(x) for x in point]\n",
    "            line_points_ls.append(point)\n",
    "#         print(line_points_ls)\n",
    "        new_column_ls.append(line_points_ls)\n",
    "    \n",
    "    print('*',len(new_column_ls), 'links are identified.')\n",
    "    df['coordinates'] = new_column_ls\n",
    "    exportCSVFile = csvLinkFile[:-4] + '_modified.csv'\n",
    "    df.to_csv(exportCSVFile, index = False)\n",
    "    print('* Modified link file is saved to', exportCSVFile)\n",
    "    \n",
    "    # create a dictionary\n",
    "    geojson = {\n",
    "        'type': 'FeatureCollection',\n",
    "        \"name\": \"imported\",\n",
    "        'features': []\n",
    "    }\n",
    "\n",
    "    # Open a csv reader\n",
    "    with open(exportCSVFile, encoding='utf-8') as csvf:\n",
    "        csvRead = csv.DictReader(csvf)\n",
    "        for rows in csvRead:\n",
    "            coordinates = rows['coordinates']\n",
    "            type_ = \"Feature\"\n",
    "            geometry = {'type': 'LineString', 'coordinates': json.loads(coordinates)}\n",
    "            properties = rows\n",
    "            line_feature = {\"type\": \"Feature\",  \"geometry\": geometry, \"properties\": properties}\n",
    "            geojson['features'].append(line_feature)\n",
    "\n",
    "    with open(jsonExportFile, 'w', encoding='utf-8') as jsonf:\n",
    "        jsonf.write(json.dumps(geojson, indent=2))\n",
    "        \n",
    "    print('* JSON file is saved to', jsonExportFile)\n",
    "    print('* Done')"
   ]
  },
  {
   "cell_type": "code",
   "execution_count": null,
   "id": "2e439349",
   "metadata": {},
   "outputs": [],
   "source": [
    "csvLinkFile = r'C:\\Users\\lzhai\\Working\\QGIS_files\\no residential\\link.csv'\n",
    "jsonExportFile = r'C:\\Users\\lzhai\\Working\\QGIS_files\\no residential\\link.json'\n",
    "GMNSLinkToGEOJSON(csvLinkFile, jsonExportFile)"
   ]
  }
 ],
 "metadata": {
  "kernelspec": {
   "display_name": "Python 3 (ipykernel)",
   "language": "python",
   "name": "python3"
  },
  "language_info": {
   "codemirror_mode": {
    "name": "ipython",
    "version": 3
   },
   "file_extension": ".py",
   "mimetype": "text/x-python",
   "name": "python",
   "nbconvert_exporter": "python",
   "pygments_lexer": "ipython3",
   "version": "3.9.12"
  }
 },
 "nbformat": 4,
 "nbformat_minor": 5
}
